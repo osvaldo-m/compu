{
  "cells": [
    {
      "cell_type": "markdown",
      "metadata": {
        "id": "NQHZqPmkPPRl"
      },
      "source": [
        "# Tarea 7: Revisión de los conceptos básicos de Python\n",
        "### Computación - 8108\n",
        "#### Facultad de Ciencias - UNAM\n",
        "#### Profesores: C. Fís. Omar Trejo, C. Fís. Iván Jiménez, Pedro Flores-Silva\n",
        "\n",
        "Instrucciones: Este notebook contiene una serie de ejercicios que deben ser resueltos. Cada ejercicio se encuentra en una celda, ya sea de código o Markdown. Debes crear una o dos *celdas debajo de cada ejercicio* con tu(s) respectiva(s) respuestas. No modifiques las celdas originales.\n",
        "Recuerda que para ejecutar el código de una celda, presionar `Ctlr + Enter` o bien el boton de `play` en el editor Jupyter notebook.\n",
        "\n",
        "Cada ejercicio tendrá diferente valor, y se indicará en la celda de éste. La calificación final será la suma de los puntos obtenidos en cada ejercicio. Se calificará considerando la calidad de la respuesta, la claridad de la explicación y la correctitud del código. Por ejemplo, si el código no ejecuta la respuesta correcta pero se da una idea textual, se demuestra que hay comprensión del problema y el código hace sentido para el revisor, se otorgará una calificación parcial. Esto es, las respuestas no solo se evaluarán como bien o mal, sino que se considerará el esfuerzo. \n",
        "\n",
        "El codigo que realices debes comentarlo donde creas necesario, no vale no hacer ningún comentario. Recuerda que los comentarios son importantes para que el código sea legible y entendible, éstos se agregan con el símbolo # ."
      ]
    },
    {
      "cell_type": "markdown",
      "metadata": {
        "id": "6CdYSDxzPPRq"
      },
      "source": [
        "### Ejercicio 1 (1 punto):\n",
        "En una celda Markdown contesta: ¿Qué es un nombre reservado en python? Enlista 5 ejemplos de nombres reservados en python y describe su función (aquí debes investigar su función si es que aún no hemos tratado dicho nombre reservado)."
      ]
    },
    {
      "cell_type": "markdown",
      "source": [
        "Las palabras reservadas, como su nombre lo indican, son palabras las cuales el lenguaje de programación ya ha reservado para realizar ciertas tareas."
      ],
      "metadata": {
        "id": "87Hu3dosRbny"
      }
    },
    {
      "cell_type": "markdown",
      "source": [
        "1. None – Representa a un valor nulo.\n",
        "\n",
        "2. As – Se utiliza para crear un alias al importar un módulo.\n",
        "\n",
        "3. Break – Se utiliza en el interior de los bucles for y while para alterar su comportamiento normal.\n",
        "\n",
        "4. Del – Para eliminar un objeto.\n",
        "\n",
        "5. From – Para importar partes específicas de un módulo.\n",
        "\n"
      ],
      "metadata": {
        "id": "QhKC4uPqPzEW"
      }
    },
    {
      "cell_type": "markdown",
      "metadata": {
        "id": "qNhdMADaPPRr"
      },
      "source": [
        "### Ejercicio 2 (1 punto):\n",
        "En una celda Markdown: Coloca tres ejemplos de nombres de variables que no son válidos en python. Explica por qué no son válidos."
      ]
    },
    {
      "cell_type": "markdown",
      "source": [
        "1. h o l a - Hay espacios entre las letras.\n",
        "\n",
        "2. velocidad-constante - Para un espacio se utiliza \"_\".\n",
        "\n",
        "3. 24z - No puede haber un número primero."
      ],
      "metadata": {
        "id": "fmVncytlShgO"
      }
    },
    {
      "cell_type": "markdown",
      "metadata": {
        "id": "S8gxIZYTPPRr"
      },
      "source": [
        "### Ejercicio 3 (3 puntos):\n",
        "Considera el siguiente polinomio: $f(x) = 10x^2 - 2x$. \n",
        "\n",
        "En una celda Markdown escribe:\n",
        "* Los pasos para encontrar sus raíces a través del método del despeje.\n",
        "* Los pasos para encontrar sus raíces a través del método de la chicharronera.\n",
        "\n",
        "En una celda de código, escribe un programa que compruebe que las raíces del polinomio $f(x) = 10x^2 - 2x$ que tu encontraste son correctas. El programa debe imprimir las raíces en la pantalla. (Debes usar la ecuación que obtuviste al depejar el polinomio).\n",
        "\n",
        "En otra celda de código, escribe un programa que encuentre las raíces del polinomio $f(x) = 10x^2 - 2x$ a través del método de la chicharronera. El programa debe imprimir las raíces en la pantalla. (Debes usar la chicharronera).\n",
        "\n",
        "Considera los signos de la chicharronera como dos operaciones diferentes: $(-)$ y $(+)$."
      ]
    },
    {
      "cell_type": "markdown",
      "source": [
        "Despeje: Sabiendo que c=0 podemos despejar una x, quedando como x*(10x-2x)=0, dandonos una  raíz que sería x=0 y la otra sería cuando 10x-2=0, dejando que x=1/5.\n",
        "\n",
        "Chicharronera: Igualmente c=0, aplicando la chicharronera quedaría tal que: (-b+-(b^2 -4ac)^1/2) x (2a)^-1, donde una raíz es cuando (b^2 - 4ac)^1/2 es positivo, y la otra cuando (b^2 - 4ac)^1/2 es negativa."
      ],
      "metadata": {
        "id": "xo1W3cSbVYim"
      }
    },
    {
      "cell_type": "code",
      "source": [
        "def polinomio(a, b, c, x, opcion):\n",
        "  if opcion == \"despeje\":\n",
        "    resultado = x*((a*x) + b)\n",
        "  elif opcion == \"chicharronerapositiva\":\n",
        "    resultado = ((-1*b) + (((b**2)-(4*a*c))**(1/2)))/(2*a)\n",
        "  else:\n",
        "    resultado = ((-1*b) - (((b**2)-(4*a*c))**(1/2)))/(2*a)\n",
        "\n",
        "  return resultado\n",
        "     "
      ],
      "metadata": {
        "id": "MCiPASMTXMwD"
      },
      "execution_count": 18,
      "outputs": []
    },
    {
      "cell_type": "code",
      "source": [
        "resultado1 = polinomio (10, -2, 0, 1/5, \"despeje\")\n",
        "print(resultado1)"
      ],
      "metadata": {
        "colab": {
          "base_uri": "https://localhost:8080/"
        },
        "id": "K41i4WAbXNE3",
        "outputId": "99d75e8b-d0d1-44e2-8625-f7ac31a81cf0"
      },
      "execution_count": 19,
      "outputs": [
        {
          "output_type": "stream",
          "name": "stdout",
          "text": [
            "0.0\n"
          ]
        }
      ]
    },
    {
      "cell_type": "code",
      "source": [
        "resultado2 = polinomio (10, -2, 0, 1/5, \"chicharronerapositiva\")\n",
        "print(resultado2)"
      ],
      "metadata": {
        "colab": {
          "base_uri": "https://localhost:8080/"
        },
        "id": "VVIkb54bZdJu",
        "outputId": "88bc453d-881d-4415-d746-829e683edb72"
      },
      "execution_count": 21,
      "outputs": [
        {
          "output_type": "stream",
          "name": "stdout",
          "text": [
            "0.2\n"
          ]
        }
      ]
    },
    {
      "cell_type": "code",
      "source": [
        "resultado3 = polinomio (10, -2, 0, 1/5, \"chicharroneranegativa\")\n",
        "print(resultado3)"
      ],
      "metadata": {
        "colab": {
          "base_uri": "https://localhost:8080/"
        },
        "id": "W-bY2fx9Zc2N",
        "outputId": "eb749407-0a2e-4f60-b51c-afffee9170b6"
      },
      "execution_count": 22,
      "outputs": [
        {
          "output_type": "stream",
          "name": "stdout",
          "text": [
            "0.0\n"
          ]
        }
      ]
    },
    {
      "cell_type": "markdown",
      "metadata": {
        "id": "YccQQHXIPPRs"
      },
      "source": [
        "### Ejercicio 4 (3 puntos):\n",
        "Caida libre: El gran Galileo Galilei subió la torre de Pisa para determinar el tiempo que tarda un objeto en caer desde una altura $H$ al suelo. Para ello, colocó un objeto de masa $m=100$ kg en la torre y lo dejó caer. El tiempo que tardó en caer fue $t=0.05616667$ minutos.\n",
        "\n",
        "Considerando que la aceleración de la gravedad es $g=9.8$ $\\frac{m}{s^2}$, escribe un programa que determine la altura de la torre de Pisa. El programa debe imprimir la altura en la pantalla.\n",
        "\n",
        "Recuerda que el movimiento de caída libre simplificado cumple la ecuación: $y(t) = H + vt - \\frac{1}{2}gt^2$.\n"
      ]
    },
    {
      "cell_type": "markdown",
      "source": [
        "Para encontra H usaremos aceleración que la de la gravedad a=9.8 m/s^2 y el tiempo en segundos que es 3.37 segundos."
      ],
      "metadata": {
        "id": "IR2qQdi_ak8y"
      }
    },
    {
      "cell_type": "code",
      "source": [
        "t = 3.37\n",
        "a = 9.8\n",
        "h = (a * (t**2))/2\n",
        "print(h, \"m\")"
      ],
      "metadata": {
        "colab": {
          "base_uri": "https://localhost:8080/"
        },
        "id": "NC0TEICuajFQ",
        "outputId": "eef0f06a-61f5-49db-d1f9-770c5304315c"
      },
      "execution_count": 23,
      "outputs": [
        {
          "output_type": "stream",
          "name": "stdout",
          "text": [
            "55.64881000000001 m\n"
          ]
        }
      ]
    },
    {
      "cell_type": "markdown",
      "metadata": {
        "id": "ia5K_waoPPRs"
      },
      "source": [
        "### Ejercicio 5 (2 puntos):\n",
        "Considera una lista de números enteros del 0 al 99 : `lista = [0,1, 2, 3, 4, ... , 95, 96, 97, 98, 99]`.\n",
        "En una celda de código, escribe un programa que imprima en la pantalla una la lista que cumpla con las siguientes condiciones:\n",
        "* Los ultimos 10 elementos: debe imprimir lo siguiente `[90, 91, 92, 93, 94, 95, 96, 97, 98, 99]`.\n",
        "* Los primeros 11 elementos: debe imprimir lo siguiente `[0, 1, 2, 3, 4, 5, 6, 7, 8, 9, 10]`.\n",
        "* La serie de elementos de la lista que están entre 60 y 75: debe imprimir lo siguiente `[60, 61, 62, 63, 64, 65, 66, 67, 68, 69, 70, 71, 72, 73, 74, 75]`.\n",
        "* El número 50: debe imprimir lo siguiente `50`.\n",
        "\n",
        "Debes aplicar el concepto de *slicing* para resolver este ejercicio (notación de puntos `[:]`).\n",
        "\n",
        "Puntos menos si se crean listas nuevas para cada caso y/o se seleccionan manualmente los valores.\n",
        "\n",
        "El código de abajo te ayudará a crear la lista del 0 al 99."
      ]
    },
    {
      "cell_type": "code",
      "execution_count": 24,
      "metadata": {
        "colab": {
          "base_uri": "https://localhost:8080/"
        },
        "id": "BBxnhUUrPPRt",
        "outputId": "dd3cab97-1e55-4d53-9e85-c025be8f4003"
      },
      "outputs": [
        {
          "output_type": "stream",
          "name": "stdout",
          "text": [
            "[90, 91, 92, 93, 94, 95, 96, 97, 98, 99]\n",
            "[0, 1, 2, 3, 4, 5, 6, 7, 8, 9, 10]\n",
            "[60, 61, 62, 63, 64, 65, 66, 67, 68, 69, 70, 71, 72, 73, 74, 75]\n",
            "[50]\n"
          ]
        }
      ],
      "source": [
        "lista = list(range(100))\n",
        "print(lista[-10:])\n",
        "print(lista[:11])\n",
        "print(lista[60:76])\n",
        "print(lista[50:51])"
      ]
    }
  ],
  "metadata": {
    "kernelspec": {
      "display_name": "Python 3.9.13 ('base')",
      "language": "python",
      "name": "python3"
    },
    "language_info": {
      "codemirror_mode": {
        "name": "ipython",
        "version": 3
      },
      "file_extension": ".py",
      "mimetype": "text/x-python",
      "name": "python",
      "nbconvert_exporter": "python",
      "pygments_lexer": "ipython3",
      "version": "3.9.13"
    },
    "orig_nbformat": 4,
    "vscode": {
      "interpreter": {
        "hash": "ad2bdc8ecc057115af97d19610ffacc2b4e99fae6737bb82f5d7fb13d2f2c186"
      }
    },
    "colab": {
      "provenance": []
    }
  },
  "nbformat": 4,
  "nbformat_minor": 0
}