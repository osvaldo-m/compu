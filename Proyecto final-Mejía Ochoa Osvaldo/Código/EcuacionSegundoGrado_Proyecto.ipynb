{
  "nbformat": 4,
  "nbformat_minor": 0,
  "metadata": {
    "colab": {
      "provenance": []
    },
    "kernelspec": {
      "name": "python3",
      "display_name": "Python 3"
    },
    "language_info": {
      "name": "python"
    }
  },
  "cells": [
    {
      "cell_type": "markdown",
      "source": [
        "#En esta sección definimos funciones y listas que se utilizarán para calcular tiempo y velocidad"
      ],
      "metadata": {
        "id": "D5mfwkrUacU6"
      }
    },
    {
      "cell_type": "code",
      "source": [
        "#Definicion de constantes\n",
        "xo = 0\n",
        "vo = 140\n",
        "g = -9.81\n",
        "import math \n",
        "angrad = math.radians (30) \n",
        "vox = vo*(math.cos (angrad))\n",
        "voy = round(vo*(math.sin (angrad)))"
      ],
      "metadata": {
        "id": "lm2X157BpoIR"
      },
      "execution_count": null,
      "outputs": []
    },
    {
      "cell_type": "code",
      "execution_count": null,
      "metadata": {
        "id": "YMX9S-lEpHGB"
      },
      "outputs": [],
      "source": [
        "# Función para calcular raíces de un polinomio grado 2\n",
        "def EcuacionSegundoGrado(a, b, c, x, y, opcion):\n",
        "  if opcion == 'chicharroneraX1':\n",
        "    resultado = (-b+(((b**2)-(4*a*c))**(1/2)))/(2*a)\n",
        "  elif opcion == 'chicharroneraX2':\n",
        "    resultado = (-b-(((b**2)-(4*a*c))**(1/2)))/(2*a)\n",
        "  elif opcion == 'ecuacion de segundo grado':\n",
        "    resultado = a*(x**2) + b*x + c\n",
        "  else:\n",
        "    resultado = print('error')\n",
        "  \n",
        "  return resultado"
      ]
    },
    {
      "cell_type": "code",
      "source": [
        "#función para calcular la posición final dada una posición inicial, velocidad, aceleración y un tiempo\n",
        "def Posicion(x, vo, t, a):\n",
        "  resultado = x+(vo*t)-(0.5*a*(t**2))\n",
        "  return resultado"
      ],
      "metadata": {
        "id": "PEv0aFh7nL22"
      },
      "execution_count": null,
      "outputs": []
    },
    {
      "cell_type": "code",
      "source": [
        "#lista de planetas\n",
        "planeta = ['Mercurio', 'Venus', 'Tierra', 'Marte', 'Jupiter', 'Saturno', 'Urano', 'Neptuno']"
      ],
      "metadata": {
        "id": "bvoQffaNoo0H"
      },
      "execution_count": null,
      "outputs": []
    },
    {
      "cell_type": "code",
      "source": [
        "#gravedad en cada planeta\n",
        "gplan = [3.7,8.87,9.81,3.71,24.79,10.44,8.87,11.15]"
      ],
      "metadata": {
        "id": "op5Xr5812hYA"
      },
      "execution_count": null,
      "outputs": []
    },
    {
      "cell_type": "markdown",
      "source": [
        "#En esta sección calculamos el tiempo de vuelo, considerando que una parábola es simétrica con dos raíces, y el proyectil \"pasa por el suelo\" dos veces."
      ],
      "metadata": {
        "id": "wfnpoBqRaQcR"
      }
    },
    {
      "cell_type": "code",
      "source": [
        "#planeta 1\n",
        "t1 = EcuacionSegundoGrado(-1.85, 70, 0, 0, 0, 'chicharroneraX1')\n",
        "t2 = EcuacionSegundoGrado(-1.85, 70, 0, 0, 0, 'chicharroneraX2')\n",
        "print(t1)\n",
        "print(t2)"
      ],
      "metadata": {
        "id": "jsHzPRfS30WA",
        "colab": {
          "base_uri": "https://localhost:8080/"
        },
        "outputId": "d644efb2-0147-468c-f05e-57f998966395"
      },
      "execution_count": null,
      "outputs": [
        {
          "output_type": "stream",
          "name": "stdout",
          "text": [
            "-0.0\n",
            "37.83783783783784\n"
          ]
        }
      ]
    },
    {
      "cell_type": "code",
      "source": [
        "#planeta 2\n",
        "t1 = EcuacionSegundoGrado(-4.435, 70, 0, 0, 0, 'chicharroneraX1')\n",
        "t2 = EcuacionSegundoGrado(-4.435, 70, 0, 0, 0, 'chicharroneraX2')\n",
        "print(t1)\n",
        "print(t2)"
      ],
      "metadata": {
        "id": "X9E-DvtZ6P1w",
        "colab": {
          "base_uri": "https://localhost:8080/"
        },
        "outputId": "3f0f8bab-7297-44df-cc5b-44d8ecc4653b"
      },
      "execution_count": null,
      "outputs": [
        {
          "output_type": "stream",
          "name": "stdout",
          "text": [
            "-0.0\n",
            "15.783540022547916\n"
          ]
        }
      ]
    },
    {
      "cell_type": "code",
      "source": [
        "#planeta 3\n",
        "t1 = EcuacionSegundoGrado(-4.905, 70, 0, 0, 0, 'chicharroneraX1')\n",
        "t2 = EcuacionSegundoGrado(-4.905, 70, 0, 0, 0, 'chicharroneraX2')\n",
        "print(t1)\n",
        "print(t2)"
      ],
      "metadata": {
        "id": "0uJ_ATJQ6P3P",
        "colab": {
          "base_uri": "https://localhost:8080/"
        },
        "outputId": "a58093d9-54bc-4eed-9c39-0fe61643a102"
      },
      "execution_count": null,
      "outputs": [
        {
          "output_type": "stream",
          "name": "stdout",
          "text": [
            "-0.0\n",
            "14.271151885830784\n"
          ]
        }
      ]
    },
    {
      "cell_type": "code",
      "source": [
        "#planeta 4\n",
        "t1 = EcuacionSegundoGrado(-1.855, 70, 0, 0, 0, 'chicharroneraX1')\n",
        "t2 = EcuacionSegundoGrado(-1.855, 70, 0, 0, 0, 'chicharroneraX2')\n",
        "print(t1)\n",
        "print(t2)"
      ],
      "metadata": {
        "id": "gGIJ-KVs6VtX",
        "colab": {
          "base_uri": "https://localhost:8080/"
        },
        "outputId": "661a4347-6a20-420d-9f63-7909ca028ca6"
      },
      "execution_count": null,
      "outputs": [
        {
          "output_type": "stream",
          "name": "stdout",
          "text": [
            "-0.0\n",
            "37.735849056603776\n"
          ]
        }
      ]
    },
    {
      "cell_type": "code",
      "source": [
        "#planeta 5\n",
        "t1 = EcuacionSegundoGrado(-12.395, 70, 0, 0, 0, 'chicharroneraX1')\n",
        "t2 = EcuacionSegundoGrado(-12.395, 70, 0, 0, 0, 'chicharroneraX2')\n",
        "print(t1)\n",
        "print(t2)"
      ],
      "metadata": {
        "id": "ZvzEplyB6VyH",
        "colab": {
          "base_uri": "https://localhost:8080/"
        },
        "outputId": "b08df336-0410-4729-8879-94520d49c723"
      },
      "execution_count": null,
      "outputs": [
        {
          "output_type": "stream",
          "name": "stdout",
          "text": [
            "-0.0\n",
            "5.647438483259379\n"
          ]
        }
      ]
    },
    {
      "cell_type": "code",
      "source": [
        "#planeta 6\n",
        "t1 = EcuacionSegundoGrado(-5.22, 70, 0, 0, 0, 'chicharroneraX1')\n",
        "t2 = EcuacionSegundoGrado(-5.22, 70, 0, 0, 0, 'chicharroneraX2')\n",
        "print(t1)\n",
        "print(t2)"
      ],
      "metadata": {
        "id": "ISYFSlSa6V4b",
        "colab": {
          "base_uri": "https://localhost:8080/"
        },
        "outputId": "6224846d-ec26-469c-b982-c7b28307020c"
      },
      "execution_count": null,
      "outputs": [
        {
          "output_type": "stream",
          "name": "stdout",
          "text": [
            "-0.0\n",
            "13.409961685823756\n"
          ]
        }
      ]
    },
    {
      "cell_type": "code",
      "source": [
        "#planeta 7\n",
        "t1 = EcuacionSegundoGrado(-4.435, 70, 0, 0, 0, 'chicharroneraX1')\n",
        "t2 = EcuacionSegundoGrado(-4.435, 70, 0, 0, 0, 'chicharroneraX2')\n",
        "print(t1)\n",
        "print(t2)"
      ],
      "metadata": {
        "id": "g5RmlJes6WD2",
        "colab": {
          "base_uri": "https://localhost:8080/"
        },
        "outputId": "b5695e31-9e9a-4210-d302-fb9c60af6ba3"
      },
      "execution_count": null,
      "outputs": [
        {
          "output_type": "stream",
          "name": "stdout",
          "text": [
            "-0.0\n",
            "15.783540022547916\n"
          ]
        }
      ]
    },
    {
      "cell_type": "code",
      "source": [
        "#planeta 8\n",
        "t1 = EcuacionSegundoGrado(-5.575, 70, 0, 0, 0, 'chicharroneraX1')\n",
        "t2 = EcuacionSegundoGrado(-5.575, 70, 0, 0, 0, 'chicharroneraX2')\n",
        "print(t1)\n",
        "print(t2)"
      ],
      "metadata": {
        "id": "4oHFExhy6WMx",
        "colab": {
          "base_uri": "https://localhost:8080/"
        },
        "outputId": "db98aeb7-62f0-41d0-b5e8-982a16498666"
      },
      "execution_count": null,
      "outputs": [
        {
          "output_type": "stream",
          "name": "stdout",
          "text": [
            "-0.0\n",
            "12.556053811659192\n"
          ]
        }
      ]
    },
    {
      "cell_type": "markdown",
      "source": [
        "#En esta sección calculamos la posición final en x"
      ],
      "metadata": {
        "id": "3HtAmvClawwA"
      }
    },
    {
      "cell_type": "code",
      "source": [
        "tiempovue = [37.83783783783784,15.783540022547916,14.271151885830784,37.735849056603776,5.647438483259379,13.409961685823756,15.783540022547916,12.556053811659192]"
      ],
      "metadata": {
        "id": "IzRMmEM6pWmw"
      },
      "execution_count": null,
      "outputs": []
    },
    {
      "cell_type": "code",
      "source": [
        "listalc = []\n",
        "for n in tiempovue:\n",
        "  x = Posicion(0, vox, n, 0)\n",
        "  listalc.append(x)\n",
        "\n",
        "for n in zip(planeta,listalc):\n",
        "    print('Alcance horizontal en', n[0], '=', n[1], 'm')"
      ],
      "metadata": {
        "colab": {
          "base_uri": "https://localhost:8080/"
        },
        "id": "_Xxx1in-SqT4",
        "outputId": "35e059cf-f8cd-4ce1-e547-9a340b3fe7b8"
      },
      "execution_count": null,
      "outputs": [
        {
          "output_type": "stream",
          "name": "stdout",
          "text": [
            "Alcance horizontal en Mercurio = 4587.5940308581075 m\n",
            "Alcance horizontal en Venus = 1913.6525269644872 m\n",
            "Alcance horizontal en Tierra = 1730.2852104153922 m\n",
            "Alcance horizontal en Marte = 4575.228548295148 m\n",
            "Alcance horizontal en Jupiter = 684.7155269937475 m\n",
            "Alcance horizontal en Saturno = 1625.871447717912 m\n",
            "Alcance horizontal en Urano = 1913.6525269644872 m\n",
            "Alcance horizontal en Neptuno = 1522.3406201053808 m\n"
          ]
        }
      ]
    },
    {
      "cell_type": "markdown",
      "source": [
        "# En esta sección calculamos la altura máxima alcanzada por el proyectil"
      ],
      "metadata": {
        "id": "Ziyja4qfbDFB"
      }
    },
    {
      "cell_type": "code",
      "source": [
        "listTymax = []\n",
        "for n in tiempovue:\n",
        "  ty = n/2\n",
        "  listTymax.append(ty)\n",
        "\n",
        "print(listTymax)"
      ],
      "metadata": {
        "colab": {
          "base_uri": "https://localhost:8080/"
        },
        "id": "6q_vAdWWyG8B",
        "outputId": "90b0985a-641c-4dd3-fea1-f60ddc610e1c"
      },
      "execution_count": null,
      "outputs": [
        {
          "output_type": "stream",
          "name": "stdout",
          "text": [
            "[18.91891891891892, 7.891770011273958, 7.135575942915392, 18.867924528301888, 2.8237192416296897, 6.704980842911878, 7.891770011273958, 6.278026905829596]\n"
          ]
        }
      ]
    },
    {
      "cell_type": "code",
      "source": [
        "listaltmax = []\n",
        "for n in zip(listTymax,gplan):\n",
        "  ymax = Posicion(0, voy, n[0], n[1])\n",
        "  listaltmax.append(ymax)\n",
        "\n",
        "for n in zip(planeta,listaltmax):\n",
        "    print('Altura máxima en', n[0], '=', n[1], 'm')"
      ],
      "metadata": {
        "colab": {
          "base_uri": "https://localhost:8080/"
        },
        "id": "xYOhjlBZ0a4P",
        "outputId": "bc69347b-32b9-420b-d6c3-c1d9cd848abc"
      },
      "execution_count": null,
      "outputs": [
        {
          "output_type": "stream",
          "name": "stdout",
          "text": [
            "Altura máxima en Mercurio = 662.1621621621622 m\n",
            "Altura máxima en Venus = 276.21195039458854 m\n",
            "Altura máxima en Tierra = 249.74515800203872 m\n",
            "Altura máxima en Marte = 660.377358490566 m\n",
            "Altura máxima en Jupiter = 98.83017345703912 m\n",
            "Altura máxima en Saturno = 234.67432950191574 m\n",
            "Altura máxima en Urano = 276.21195039458854 m\n",
            "Altura máxima en Neptuno = 219.73094170403584 m\n"
          ]
        }
      ]
    }
  ]
}